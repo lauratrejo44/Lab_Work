{
 "cells": [
  {
   "cell_type": "markdown",
   "metadata": {},
   "source": [
    "**3-8-17 Lab Work Week 9 Analysing Paleontological Data with PyRate \n",
    "\n",
    "    1. How many fossils are included in the dataset?\n",
    "    2. How many fossils have been identified to genus-level only? \n",
    "    How many to species-level?\n",
    "    3. How many unique accepted names are part of this data set?\n"
   ]
  },
  {
   "cell_type": "markdown",
   "metadata": {},
   "source": [
    "1. How can we change the sampling frequency of our PyRate run?\n",
    "2. What does the -n flag achieve?\n"
   ]
  },
  {
   "cell_type": "markdown",
   "metadata": {},
   "source": [
    "In your jupyter notebook above, write a summary of what each of these three files in pyrate_mcmc_logs show. You can find explanations on the PyRate github page"
   ]
  },
  {
   "cell_type": "markdown",
   "metadata": {
    "collapsed": true
   },
   "source": [
    "Lab Home Work \n",
    "\n",
    "a. Describe the changes in Speciation rates across the Canidae lineage.\n",
    "b. Describe the changes in Extinction rates across the Canidae lineage. \n",
    "c. Describe the changes in Diversification rates across the Canidae lineage."
   ]
  },
  {
   "cell_type": "markdown",
   "metadata": {},
   "source": [
    "Create RTT plots for this new run. Do you see anything different about these RTT plots compared to the ones you had made with only 250000 steps in the MCMC chain?"
   ]
  },
  {
   "cell_type": "code",
   "execution_count": null,
   "metadata": {
    "collapsed": true
   },
   "outputs": [],
   "source": [
    "Create RTT plots for this new run. Do you see anything different about these RTT plots compared to the ones you had made with only 250000 steps in the MCMC chain"
   ]
  },
  {
   "cell_type": "code",
   "execution_count": null,
   "metadata": {
    "collapsed": true
   },
   "outputs": [],
   "source": []
  }
 ],
 "metadata": {
  "anaconda-cloud": {},
  "kernelspec": {
   "display_name": "Python [conda root]",
   "language": "python",
   "name": "conda-root-py"
  },
  "language_info": {
   "codemirror_mode": {
    "name": "ipython",
    "version": 3
   },
   "file_extension": ".py",
   "mimetype": "text/x-python",
   "name": "python",
   "nbconvert_exporter": "python",
   "pygments_lexer": "ipython3",
   "version": "3.5.2"
  }
 },
 "nbformat": 4,
 "nbformat_minor": 2
}
