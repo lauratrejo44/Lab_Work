{
 "cells": [
  {
   "cell_type": "markdown",
   "metadata": {},
   "source": [
    "**3-8-17 Lab Work Week 9 Analysing Paleontological Data with PyRate \n",
    "\n",
    "    1. How many fossils are included in the dataset? 2946\n",
    "    2. How many fossils have been identified to genus-level only? 614\n",
    "    How many to species-level? 2107\n",
    "    3. How many unique accepted names are part of this data set? 2406\n"
   ]
  },
  {
   "cell_type": "markdown",
   "metadata": {},
   "source": [
    "1. How can we change the sampling frequency of our PyRate run?\n",
    "2. What does the -n flag achieve?\n",
    "\n",
    "\n",
    "1. You can change the sampling frequency of out PyRate run by using -s and the n frequency.\n",
    "2. The -n flag achieves mcmc generations adjustment. "
   ]
  },
  {
   "cell_type": "markdown",
   "metadata": {},
   "source": [
    "In your jupyter notebook above, write a summary of what each of these three files in pyrate_mcmc_logs show. You can find explanations on the PyRate github page\n",
    "\n",
    "1. sum.txt: text file that provides the complete list of settings used in the analysis\n",
    "\n",
    "2. mcmc.log: tab-separated table with the MCMC samples of the posterior, prior, likelihoods of the preservation process and of the birth-death (indicated by PP_lik and BD_lik, respectively), the preservation rate (q_rate), the shape parameter of its gamma-distributed heterogeneity (alpha), the number of sampled rate shifts (k_birth, k_death), the time of origin of the oldest lineage (root_age), the total branch length (tot_length), and the times of speciation and extinction of all taxa in the data set (_TS and _TE, respectively). When using the TPP model of preservation, the preservation rates between shifts are indicated as q_0, q_1, ... q_n (from older to younger).\n",
    "\n",
    "3. marginal_rates.log: tab-separated table with the posterior samples of the marginal rates of speciation, extinction, and net diversification, calculated within 1 time unit (typically Myr)."
   ]
  },
  {
   "cell_type": "markdown",
   "metadata": {
    "collapsed": true
   },
   "source": [
    "Lab Home Work \n",
    "\n",
    "a. Describe the changes in Speciation rates across the Canidae lineage.\n",
    "b. Describe the changes in Extinction rates across the Canidae lineage. \n",
    "c. Describe the changes in Diversification rates across the Canidae lineage."
   ]
  },
  {
   "cell_type": "markdown",
   "metadata": {},
   "source": [
    "Create RTT plots for this new run. Do you see anything different about these RTT plots compared to the ones you had made with only 250000 steps in the MCMC chain?"
   ]
  },
  {
   "cell_type": "code",
   "execution_count": null,
   "metadata": {
    "collapsed": true
   },
   "outputs": [],
   "source": []
  }
 ],
 "metadata": {
  "anaconda-cloud": {},
  "kernelspec": {
   "display_name": "Python [conda root]",
   "language": "python",
   "name": "conda-root-py"
  },
  "language_info": {
   "codemirror_mode": {
    "name": "ipython",
    "version": 3
   },
   "file_extension": ".py",
   "mimetype": "text/x-python",
   "name": "python",
   "nbconvert_exporter": "python",
   "pygments_lexer": "ipython3",
   "version": "3.5.2"
  }
 },
 "nbformat": 4,
 "nbformat_minor": 2
}
